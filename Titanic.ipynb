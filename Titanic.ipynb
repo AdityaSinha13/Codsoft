{
 "cells": [
  {
   "cell_type": "code",
   "execution_count": 1,
   "id": "88983fc6",
   "metadata": {
    "_cell_guid": "b1076dfc-b9ad-4769-8c92-a6c4dae69d19",
    "_uuid": "8f2839f25d086af736a60e9eeb907d3b93b6e0e5",
    "execution": {
     "iopub.execute_input": "2023-11-07T05:16:27.556167Z",
     "iopub.status.busy": "2023-11-07T05:16:27.555720Z",
     "iopub.status.idle": "2023-11-07T05:16:28.415492Z",
     "shell.execute_reply": "2023-11-07T05:16:28.414348Z"
    },
    "papermill": {
     "duration": 0.874811,
     "end_time": "2023-11-07T05:16:28.418381",
     "exception": false,
     "start_time": "2023-11-07T05:16:27.543570",
     "status": "completed"
    },
    "tags": []
   },
   "outputs": [
    {
     "name": "stdout",
     "output_type": "stream",
     "text": [
      "/kaggle/input/titanic/train.csv\n",
      "/kaggle/input/titanic/test.csv\n",
      "/kaggle/input/titanic/gender_submission.csv\n"
     ]
    }
   ],
   "source": [
    "# This Python 3 environment comes with many helpful analytics libraries installed\n",
    "# It is defined by the kaggle/python Docker image: https://github.com/kaggle/docker-python\n",
    "# For example, here's several helpful packages to load\n",
    "\n",
    "import numpy as np # linear algebra\n",
    "import pandas as pd # data processing, CSV file I/O (e.g. pd.read_csv)\n",
    "\n",
    "# Input data files are available in the read-only \"../input/\" directory\n",
    "# For example, running this (by clicking run or pressing Shift+Enter) will list all files under the input directory\n",
    "\n",
    "import os\n",
    "for dirname, _, filenames in os.walk('/kaggle/input'):\n",
    "    for filename in filenames:\n",
    "        print(os.path.join(dirname, filename))\n",
    "\n",
    "# You can write up to 20GB to the current directory (/kaggle/working/) that gets preserved as output when you create a version using \"Save & Run All\" \n",
    "# You can also write temporary files to /kaggle/temp/, but they won't be saved outside of the current session"
   ]
  },
  {
   "cell_type": "markdown",
   "id": "2fbdd48c",
   "metadata": {
    "papermill": {
     "duration": 0.009853,
     "end_time": "2023-11-07T05:16:28.438805",
     "exception": false,
     "start_time": "2023-11-07T05:16:28.428952",
     "status": "completed"
    },
    "tags": []
   },
   "source": [
    "# Titanic DataSet"
   ]
  },
  {
   "cell_type": "code",
   "execution_count": 2,
   "id": "8a2fda2d",
   "metadata": {
    "execution": {
     "iopub.execute_input": "2023-11-07T05:16:28.461477Z",
     "iopub.status.busy": "2023-11-07T05:16:28.460910Z",
     "iopub.status.idle": "2023-11-07T05:16:30.053066Z",
     "shell.execute_reply": "2023-11-07T05:16:30.052075Z"
    },
    "papermill": {
     "duration": 1.606729,
     "end_time": "2023-11-07T05:16:30.055885",
     "exception": false,
     "start_time": "2023-11-07T05:16:28.449156",
     "status": "completed"
    },
    "tags": []
   },
   "outputs": [],
   "source": [
    "import numpy as np\n",
    "import pandas as pd\n",
    "import matplotlib.pyplot as plt\n",
    "%matplotlib inline\n",
    "import seaborn as sns"
   ]
  },
  {
   "cell_type": "code",
   "execution_count": 3,
   "id": "b9c6d40e",
   "metadata": {
    "execution": {
     "iopub.execute_input": "2023-11-07T05:16:30.078266Z",
     "iopub.status.busy": "2023-11-07T05:16:30.077835Z",
     "iopub.status.idle": "2023-11-07T05:16:30.106467Z",
     "shell.execute_reply": "2023-11-07T05:16:30.104937Z"
    },
    "papermill": {
     "duration": 0.043745,
     "end_time": "2023-11-07T05:16:30.109919",
     "exception": false,
     "start_time": "2023-11-07T05:16:30.066174",
     "status": "completed"
    },
    "tags": []
   },
   "outputs": [],
   "source": [
    "df = pd.read_csv(\"/kaggle/input/titanic/train.csv\")"
   ]
  },
  {
   "cell_type": "code",
   "execution_count": 4,
   "id": "e3ab3d85",
   "metadata": {
    "execution": {
     "iopub.execute_input": "2023-11-07T05:16:30.139839Z",
     "iopub.status.busy": "2023-11-07T05:16:30.138581Z",
     "iopub.status.idle": "2023-11-07T05:16:30.169921Z",
     "shell.execute_reply": "2023-11-07T05:16:30.168663Z"
    },
    "papermill": {
     "duration": 0.047383,
     "end_time": "2023-11-07T05:16:30.172912",
     "exception": false,
     "start_time": "2023-11-07T05:16:30.125529",
     "status": "completed"
    },
    "tags": []
   },
   "outputs": [
    {
     "data": {
      "text/html": [
       "<div>\n",
       "<style scoped>\n",
       "    .dataframe tbody tr th:only-of-type {\n",
       "        vertical-align: middle;\n",
       "    }\n",
       "\n",
       "    .dataframe tbody tr th {\n",
       "        vertical-align: top;\n",
       "    }\n",
       "\n",
       "    .dataframe thead th {\n",
       "        text-align: right;\n",
       "    }\n",
       "</style>\n",
       "<table border=\"1\" class=\"dataframe\">\n",
       "  <thead>\n",
       "    <tr style=\"text-align: right;\">\n",
       "      <th></th>\n",
       "      <th>PassengerId</th>\n",
       "      <th>Survived</th>\n",
       "      <th>Pclass</th>\n",
       "      <th>Name</th>\n",
       "      <th>Sex</th>\n",
       "      <th>Age</th>\n",
       "      <th>SibSp</th>\n",
       "      <th>Parch</th>\n",
       "      <th>Ticket</th>\n",
       "      <th>Fare</th>\n",
       "      <th>Cabin</th>\n",
       "      <th>Embarked</th>\n",
       "    </tr>\n",
       "  </thead>\n",
       "  <tbody>\n",
       "    <tr>\n",
       "      <th>0</th>\n",
       "      <td>1</td>\n",
       "      <td>0</td>\n",
       "      <td>3</td>\n",
       "      <td>Braund, Mr. Owen Harris</td>\n",
       "      <td>male</td>\n",
       "      <td>22.0</td>\n",
       "      <td>1</td>\n",
       "      <td>0</td>\n",
       "      <td>A/5 21171</td>\n",
       "      <td>7.2500</td>\n",
       "      <td>NaN</td>\n",
       "      <td>S</td>\n",
       "    </tr>\n",
       "    <tr>\n",
       "      <th>1</th>\n",
       "      <td>2</td>\n",
       "      <td>1</td>\n",
       "      <td>1</td>\n",
       "      <td>Cumings, Mrs. John Bradley (Florence Briggs Th...</td>\n",
       "      <td>female</td>\n",
       "      <td>38.0</td>\n",
       "      <td>1</td>\n",
       "      <td>0</td>\n",
       "      <td>PC 17599</td>\n",
       "      <td>71.2833</td>\n",
       "      <td>C85</td>\n",
       "      <td>C</td>\n",
       "    </tr>\n",
       "  </tbody>\n",
       "</table>\n",
       "</div>"
      ],
      "text/plain": [
       "   PassengerId  Survived  Pclass  \\\n",
       "0            1         0       3   \n",
       "1            2         1       1   \n",
       "\n",
       "                                                Name     Sex   Age  SibSp  \\\n",
       "0                            Braund, Mr. Owen Harris    male  22.0      1   \n",
       "1  Cumings, Mrs. John Bradley (Florence Briggs Th...  female  38.0      1   \n",
       "\n",
       "   Parch     Ticket     Fare Cabin Embarked  \n",
       "0      0  A/5 21171   7.2500   NaN        S  \n",
       "1      0   PC 17599  71.2833   C85        C  "
      ]
     },
     "execution_count": 4,
     "metadata": {},
     "output_type": "execute_result"
    }
   ],
   "source": [
    "df.head(2)"
   ]
  },
  {
   "cell_type": "code",
   "execution_count": 5,
   "id": "0a01e1d4",
   "metadata": {
    "execution": {
     "iopub.execute_input": "2023-11-07T05:16:30.196012Z",
     "iopub.status.busy": "2023-11-07T05:16:30.195255Z",
     "iopub.status.idle": "2023-11-07T05:16:30.210220Z",
     "shell.execute_reply": "2023-11-07T05:16:30.208624Z"
    },
    "papermill": {
     "duration": 0.029914,
     "end_time": "2023-11-07T05:16:30.213243",
     "exception": false,
     "start_time": "2023-11-07T05:16:30.183329",
     "status": "completed"
    },
    "tags": []
   },
   "outputs": [],
   "source": [
    "remove = [\"PassengerId\", \"Cabin\"]\n",
    "df.drop(remove, axis = 1, inplace = True)"
   ]
  },
  {
   "cell_type": "code",
   "execution_count": 6,
   "id": "378cb180",
   "metadata": {
    "execution": {
     "iopub.execute_input": "2023-11-07T05:16:30.236752Z",
     "iopub.status.busy": "2023-11-07T05:16:30.236338Z",
     "iopub.status.idle": "2023-11-07T05:16:30.243875Z",
     "shell.execute_reply": "2023-11-07T05:16:30.242643Z"
    },
    "papermill": {
     "duration": 0.021729,
     "end_time": "2023-11-07T05:16:30.246196",
     "exception": false,
     "start_time": "2023-11-07T05:16:30.224467",
     "status": "completed"
    },
    "tags": []
   },
   "outputs": [],
   "source": [
    "df.rename(columns = {\"Sex\" : \"Gender\"}, inplace = True)"
   ]
  },
  {
   "cell_type": "code",
   "execution_count": 7,
   "id": "06e03da4",
   "metadata": {
    "execution": {
     "iopub.execute_input": "2023-11-07T05:16:30.269737Z",
     "iopub.status.busy": "2023-11-07T05:16:30.269333Z",
     "iopub.status.idle": "2023-11-07T05:16:30.294399Z",
     "shell.execute_reply": "2023-11-07T05:16:30.292646Z"
    },
    "papermill": {
     "duration": 0.039487,
     "end_time": "2023-11-07T05:16:30.296857",
     "exception": false,
     "start_time": "2023-11-07T05:16:30.257370",
     "status": "completed"
    },
    "tags": []
   },
   "outputs": [
    {
     "name": "stdout",
     "output_type": "stream",
     "text": [
      "<class 'pandas.core.frame.DataFrame'>\n",
      "RangeIndex: 891 entries, 0 to 890\n",
      "Data columns (total 10 columns):\n",
      " #   Column    Non-Null Count  Dtype  \n",
      "---  ------    --------------  -----  \n",
      " 0   Survived  891 non-null    int64  \n",
      " 1   Pclass    891 non-null    int64  \n",
      " 2   Name      891 non-null    object \n",
      " 3   Gender    891 non-null    object \n",
      " 4   Age       714 non-null    float64\n",
      " 5   SibSp     891 non-null    int64  \n",
      " 6   Parch     891 non-null    int64  \n",
      " 7   Ticket    891 non-null    object \n",
      " 8   Fare      891 non-null    float64\n",
      " 9   Embarked  889 non-null    object \n",
      "dtypes: float64(2), int64(4), object(4)\n",
      "memory usage: 69.7+ KB\n"
     ]
    }
   ],
   "source": [
    "df.info()"
   ]
  },
  {
   "cell_type": "code",
   "execution_count": 8,
   "id": "a92040a4",
   "metadata": {
    "execution": {
     "iopub.execute_input": "2023-11-07T05:16:30.320129Z",
     "iopub.status.busy": "2023-11-07T05:16:30.319687Z",
     "iopub.status.idle": "2023-11-07T05:16:30.352481Z",
     "shell.execute_reply": "2023-11-07T05:16:30.351305Z"
    },
    "papermill": {
     "duration": 0.047477,
     "end_time": "2023-11-07T05:16:30.355011",
     "exception": false,
     "start_time": "2023-11-07T05:16:30.307534",
     "status": "completed"
    },
    "tags": []
   },
   "outputs": [
    {
     "data": {
      "text/html": [
       "<div>\n",
       "<style scoped>\n",
       "    .dataframe tbody tr th:only-of-type {\n",
       "        vertical-align: middle;\n",
       "    }\n",
       "\n",
       "    .dataframe tbody tr th {\n",
       "        vertical-align: top;\n",
       "    }\n",
       "\n",
       "    .dataframe thead th {\n",
       "        text-align: right;\n",
       "    }\n",
       "</style>\n",
       "<table border=\"1\" class=\"dataframe\">\n",
       "  <thead>\n",
       "    <tr style=\"text-align: right;\">\n",
       "      <th></th>\n",
       "      <th>Survived</th>\n",
       "      <th>Pclass</th>\n",
       "      <th>Age</th>\n",
       "      <th>SibSp</th>\n",
       "      <th>Parch</th>\n",
       "      <th>Fare</th>\n",
       "    </tr>\n",
       "  </thead>\n",
       "  <tbody>\n",
       "    <tr>\n",
       "      <th>count</th>\n",
       "      <td>891.000000</td>\n",
       "      <td>891.000000</td>\n",
       "      <td>714.000000</td>\n",
       "      <td>891.000000</td>\n",
       "      <td>891.000000</td>\n",
       "      <td>891.000000</td>\n",
       "    </tr>\n",
       "    <tr>\n",
       "      <th>mean</th>\n",
       "      <td>0.383838</td>\n",
       "      <td>2.308642</td>\n",
       "      <td>29.699118</td>\n",
       "      <td>0.523008</td>\n",
       "      <td>0.381594</td>\n",
       "      <td>32.204208</td>\n",
       "    </tr>\n",
       "    <tr>\n",
       "      <th>std</th>\n",
       "      <td>0.486592</td>\n",
       "      <td>0.836071</td>\n",
       "      <td>14.526497</td>\n",
       "      <td>1.102743</td>\n",
       "      <td>0.806057</td>\n",
       "      <td>49.693429</td>\n",
       "    </tr>\n",
       "    <tr>\n",
       "      <th>min</th>\n",
       "      <td>0.000000</td>\n",
       "      <td>1.000000</td>\n",
       "      <td>0.420000</td>\n",
       "      <td>0.000000</td>\n",
       "      <td>0.000000</td>\n",
       "      <td>0.000000</td>\n",
       "    </tr>\n",
       "    <tr>\n",
       "      <th>25%</th>\n",
       "      <td>0.000000</td>\n",
       "      <td>2.000000</td>\n",
       "      <td>20.125000</td>\n",
       "      <td>0.000000</td>\n",
       "      <td>0.000000</td>\n",
       "      <td>7.910400</td>\n",
       "    </tr>\n",
       "    <tr>\n",
       "      <th>50%</th>\n",
       "      <td>0.000000</td>\n",
       "      <td>3.000000</td>\n",
       "      <td>28.000000</td>\n",
       "      <td>0.000000</td>\n",
       "      <td>0.000000</td>\n",
       "      <td>14.454200</td>\n",
       "    </tr>\n",
       "    <tr>\n",
       "      <th>75%</th>\n",
       "      <td>1.000000</td>\n",
       "      <td>3.000000</td>\n",
       "      <td>38.000000</td>\n",
       "      <td>1.000000</td>\n",
       "      <td>0.000000</td>\n",
       "      <td>31.000000</td>\n",
       "    </tr>\n",
       "    <tr>\n",
       "      <th>max</th>\n",
       "      <td>1.000000</td>\n",
       "      <td>3.000000</td>\n",
       "      <td>80.000000</td>\n",
       "      <td>8.000000</td>\n",
       "      <td>6.000000</td>\n",
       "      <td>512.329200</td>\n",
       "    </tr>\n",
       "  </tbody>\n",
       "</table>\n",
       "</div>"
      ],
      "text/plain": [
       "         Survived      Pclass         Age       SibSp       Parch        Fare\n",
       "count  891.000000  891.000000  714.000000  891.000000  891.000000  891.000000\n",
       "mean     0.383838    2.308642   29.699118    0.523008    0.381594   32.204208\n",
       "std      0.486592    0.836071   14.526497    1.102743    0.806057   49.693429\n",
       "min      0.000000    1.000000    0.420000    0.000000    0.000000    0.000000\n",
       "25%      0.000000    2.000000   20.125000    0.000000    0.000000    7.910400\n",
       "50%      0.000000    3.000000   28.000000    0.000000    0.000000   14.454200\n",
       "75%      1.000000    3.000000   38.000000    1.000000    0.000000   31.000000\n",
       "max      1.000000    3.000000   80.000000    8.000000    6.000000  512.329200"
      ]
     },
     "execution_count": 8,
     "metadata": {},
     "output_type": "execute_result"
    }
   ],
   "source": [
    "df.describe()\n"
   ]
  },
  {
   "cell_type": "code",
   "execution_count": 9,
   "id": "b2e34042",
   "metadata": {
    "execution": {
     "iopub.execute_input": "2023-11-07T05:16:30.381171Z",
     "iopub.status.busy": "2023-11-07T05:16:30.378651Z",
     "iopub.status.idle": "2023-11-07T05:16:30.421438Z",
     "shell.execute_reply": "2023-11-07T05:16:30.420408Z"
    },
    "papermill": {
     "duration": 0.057676,
     "end_time": "2023-11-07T05:16:30.423969",
     "exception": false,
     "start_time": "2023-11-07T05:16:30.366293",
     "status": "completed"
    },
    "tags": []
   },
   "outputs": [
    {
     "data": {
      "text/html": [
       "<div>\n",
       "<style scoped>\n",
       "    .dataframe tbody tr th:only-of-type {\n",
       "        vertical-align: middle;\n",
       "    }\n",
       "\n",
       "    .dataframe tbody tr th {\n",
       "        vertical-align: top;\n",
       "    }\n",
       "\n",
       "    .dataframe thead th {\n",
       "        text-align: right;\n",
       "    }\n",
       "</style>\n",
       "<table border=\"1\" class=\"dataframe\">\n",
       "  <thead>\n",
       "    <tr style=\"text-align: right;\">\n",
       "      <th></th>\n",
       "      <th>Survived</th>\n",
       "      <th>Pclass</th>\n",
       "      <th>Name</th>\n",
       "      <th>Gender</th>\n",
       "      <th>Age</th>\n",
       "      <th>SibSp</th>\n",
       "      <th>Parch</th>\n",
       "      <th>Ticket</th>\n",
       "      <th>Fare</th>\n",
       "      <th>Embarked</th>\n",
       "    </tr>\n",
       "  </thead>\n",
       "  <tbody>\n",
       "    <tr>\n",
       "      <th>count</th>\n",
       "      <td>891.000000</td>\n",
       "      <td>891.000000</td>\n",
       "      <td>891</td>\n",
       "      <td>891</td>\n",
       "      <td>714.000000</td>\n",
       "      <td>891.000000</td>\n",
       "      <td>891.000000</td>\n",
       "      <td>891</td>\n",
       "      <td>891.000000</td>\n",
       "      <td>889</td>\n",
       "    </tr>\n",
       "    <tr>\n",
       "      <th>unique</th>\n",
       "      <td>NaN</td>\n",
       "      <td>NaN</td>\n",
       "      <td>891</td>\n",
       "      <td>2</td>\n",
       "      <td>NaN</td>\n",
       "      <td>NaN</td>\n",
       "      <td>NaN</td>\n",
       "      <td>681</td>\n",
       "      <td>NaN</td>\n",
       "      <td>3</td>\n",
       "    </tr>\n",
       "    <tr>\n",
       "      <th>top</th>\n",
       "      <td>NaN</td>\n",
       "      <td>NaN</td>\n",
       "      <td>Braund, Mr. Owen Harris</td>\n",
       "      <td>male</td>\n",
       "      <td>NaN</td>\n",
       "      <td>NaN</td>\n",
       "      <td>NaN</td>\n",
       "      <td>347082</td>\n",
       "      <td>NaN</td>\n",
       "      <td>S</td>\n",
       "    </tr>\n",
       "    <tr>\n",
       "      <th>freq</th>\n",
       "      <td>NaN</td>\n",
       "      <td>NaN</td>\n",
       "      <td>1</td>\n",
       "      <td>577</td>\n",
       "      <td>NaN</td>\n",
       "      <td>NaN</td>\n",
       "      <td>NaN</td>\n",
       "      <td>7</td>\n",
       "      <td>NaN</td>\n",
       "      <td>644</td>\n",
       "    </tr>\n",
       "    <tr>\n",
       "      <th>mean</th>\n",
       "      <td>0.383838</td>\n",
       "      <td>2.308642</td>\n",
       "      <td>NaN</td>\n",
       "      <td>NaN</td>\n",
       "      <td>29.699118</td>\n",
       "      <td>0.523008</td>\n",
       "      <td>0.381594</td>\n",
       "      <td>NaN</td>\n",
       "      <td>32.204208</td>\n",
       "      <td>NaN</td>\n",
       "    </tr>\n",
       "    <tr>\n",
       "      <th>std</th>\n",
       "      <td>0.486592</td>\n",
       "      <td>0.836071</td>\n",
       "      <td>NaN</td>\n",
       "      <td>NaN</td>\n",
       "      <td>14.526497</td>\n",
       "      <td>1.102743</td>\n",
       "      <td>0.806057</td>\n",
       "      <td>NaN</td>\n",
       "      <td>49.693429</td>\n",
       "      <td>NaN</td>\n",
       "    </tr>\n",
       "    <tr>\n",
       "      <th>min</th>\n",
       "      <td>0.000000</td>\n",
       "      <td>1.000000</td>\n",
       "      <td>NaN</td>\n",
       "      <td>NaN</td>\n",
       "      <td>0.420000</td>\n",
       "      <td>0.000000</td>\n",
       "      <td>0.000000</td>\n",
       "      <td>NaN</td>\n",
       "      <td>0.000000</td>\n",
       "      <td>NaN</td>\n",
       "    </tr>\n",
       "    <tr>\n",
       "      <th>25%</th>\n",
       "      <td>0.000000</td>\n",
       "      <td>2.000000</td>\n",
       "      <td>NaN</td>\n",
       "      <td>NaN</td>\n",
       "      <td>20.125000</td>\n",
       "      <td>0.000000</td>\n",
       "      <td>0.000000</td>\n",
       "      <td>NaN</td>\n",
       "      <td>7.910400</td>\n",
       "      <td>NaN</td>\n",
       "    </tr>\n",
       "    <tr>\n",
       "      <th>50%</th>\n",
       "      <td>0.000000</td>\n",
       "      <td>3.000000</td>\n",
       "      <td>NaN</td>\n",
       "      <td>NaN</td>\n",
       "      <td>28.000000</td>\n",
       "      <td>0.000000</td>\n",
       "      <td>0.000000</td>\n",
       "      <td>NaN</td>\n",
       "      <td>14.454200</td>\n",
       "      <td>NaN</td>\n",
       "    </tr>\n",
       "    <tr>\n",
       "      <th>75%</th>\n",
       "      <td>1.000000</td>\n",
       "      <td>3.000000</td>\n",
       "      <td>NaN</td>\n",
       "      <td>NaN</td>\n",
       "      <td>38.000000</td>\n",
       "      <td>1.000000</td>\n",
       "      <td>0.000000</td>\n",
       "      <td>NaN</td>\n",
       "      <td>31.000000</td>\n",
       "      <td>NaN</td>\n",
       "    </tr>\n",
       "    <tr>\n",
       "      <th>max</th>\n",
       "      <td>1.000000</td>\n",
       "      <td>3.000000</td>\n",
       "      <td>NaN</td>\n",
       "      <td>NaN</td>\n",
       "      <td>80.000000</td>\n",
       "      <td>8.000000</td>\n",
       "      <td>6.000000</td>\n",
       "      <td>NaN</td>\n",
       "      <td>512.329200</td>\n",
       "      <td>NaN</td>\n",
       "    </tr>\n",
       "  </tbody>\n",
       "</table>\n",
       "</div>"
      ],
      "text/plain": [
       "          Survived      Pclass                     Name Gender         Age  \\\n",
       "count   891.000000  891.000000                      891    891  714.000000   \n",
       "unique         NaN         NaN                      891      2         NaN   \n",
       "top            NaN         NaN  Braund, Mr. Owen Harris   male         NaN   \n",
       "freq           NaN         NaN                        1    577         NaN   \n",
       "mean      0.383838    2.308642                      NaN    NaN   29.699118   \n",
       "std       0.486592    0.836071                      NaN    NaN   14.526497   \n",
       "min       0.000000    1.000000                      NaN    NaN    0.420000   \n",
       "25%       0.000000    2.000000                      NaN    NaN   20.125000   \n",
       "50%       0.000000    3.000000                      NaN    NaN   28.000000   \n",
       "75%       1.000000    3.000000                      NaN    NaN   38.000000   \n",
       "max       1.000000    3.000000                      NaN    NaN   80.000000   \n",
       "\n",
       "             SibSp       Parch  Ticket        Fare Embarked  \n",
       "count   891.000000  891.000000     891  891.000000      889  \n",
       "unique         NaN         NaN     681         NaN        3  \n",
       "top            NaN         NaN  347082         NaN        S  \n",
       "freq           NaN         NaN       7         NaN      644  \n",
       "mean      0.523008    0.381594     NaN   32.204208      NaN  \n",
       "std       1.102743    0.806057     NaN   49.693429      NaN  \n",
       "min       0.000000    0.000000     NaN    0.000000      NaN  \n",
       "25%       0.000000    0.000000     NaN    7.910400      NaN  \n",
       "50%       0.000000    0.000000     NaN   14.454200      NaN  \n",
       "75%       1.000000    0.000000     NaN   31.000000      NaN  \n",
       "max       8.000000    6.000000     NaN  512.329200      NaN  "
      ]
     },
     "execution_count": 9,
     "metadata": {},
     "output_type": "execute_result"
    }
   ],
   "source": [
    "df.describe(include = \"all\")"
   ]
  },
  {
   "cell_type": "code",
   "execution_count": 10,
   "id": "dbd0787e",
   "metadata": {
    "execution": {
     "iopub.execute_input": "2023-11-07T05:16:30.448532Z",
     "iopub.status.busy": "2023-11-07T05:16:30.448100Z",
     "iopub.status.idle": "2023-11-07T05:16:30.457583Z",
     "shell.execute_reply": "2023-11-07T05:16:30.456434Z"
    },
    "papermill": {
     "duration": 0.024552,
     "end_time": "2023-11-07T05:16:30.459954",
     "exception": false,
     "start_time": "2023-11-07T05:16:30.435402",
     "status": "completed"
    },
    "tags": []
   },
   "outputs": [
    {
     "data": {
      "text/plain": [
       "array([0, 1])"
      ]
     },
     "execution_count": 10,
     "metadata": {},
     "output_type": "execute_result"
    }
   ],
   "source": [
    "df[\"Survived\"].unique()"
   ]
  },
  {
   "cell_type": "code",
   "execution_count": 11,
   "id": "7e1dc8e1",
   "metadata": {
    "execution": {
     "iopub.execute_input": "2023-11-07T05:16:30.484839Z",
     "iopub.status.busy": "2023-11-07T05:16:30.484425Z",
     "iopub.status.idle": "2023-11-07T05:16:30.492828Z",
     "shell.execute_reply": "2023-11-07T05:16:30.491572Z"
    },
    "papermill": {
     "duration": 0.023984,
     "end_time": "2023-11-07T05:16:30.495342",
     "exception": false,
     "start_time": "2023-11-07T05:16:30.471358",
     "status": "completed"
    },
    "tags": []
   },
   "outputs": [
    {
     "data": {
      "text/plain": [
       "2"
      ]
     },
     "execution_count": 11,
     "metadata": {},
     "output_type": "execute_result"
    }
   ],
   "source": [
    "df[\"Survived\"].nunique()"
   ]
  },
  {
   "cell_type": "code",
   "execution_count": 12,
   "id": "cfd74cd0",
   "metadata": {
    "execution": {
     "iopub.execute_input": "2023-11-07T05:16:30.520444Z",
     "iopub.status.busy": "2023-11-07T05:16:30.520002Z",
     "iopub.status.idle": "2023-11-07T05:16:30.529872Z",
     "shell.execute_reply": "2023-11-07T05:16:30.528622Z"
    },
    "papermill": {
     "duration": 0.025422,
     "end_time": "2023-11-07T05:16:30.532307",
     "exception": false,
     "start_time": "2023-11-07T05:16:30.506885",
     "status": "completed"
    },
    "tags": []
   },
   "outputs": [
    {
     "data": {
      "text/plain": [
       "Survived\n",
       "0    549\n",
       "1    342\n",
       "Name: count, dtype: int64"
      ]
     },
     "execution_count": 12,
     "metadata": {},
     "output_type": "execute_result"
    }
   ],
   "source": [
    "df[\"Survived\"].value_counts()"
   ]
  },
  {
   "cell_type": "code",
   "execution_count": 13,
   "id": "803c911b",
   "metadata": {
    "execution": {
     "iopub.execute_input": "2023-11-07T05:16:30.558408Z",
     "iopub.status.busy": "2023-11-07T05:16:30.557984Z",
     "iopub.status.idle": "2023-11-07T05:16:30.789244Z",
     "shell.execute_reply": "2023-11-07T05:16:30.788085Z"
    },
    "papermill": {
     "duration": 0.247137,
     "end_time": "2023-11-07T05:16:30.791582",
     "exception": false,
     "start_time": "2023-11-07T05:16:30.544445",
     "status": "completed"
    },
    "tags": []
   },
   "outputs": [
    {
     "data": {
      "image/png": "[encoded data removed]",
      "text/plain": [
       "<Figure size 600x300 with 1 Axes>"
      ]
     },
     "metadata": {},
     "output_type": "display_data"
    }
   ],
   "source": [
    "fig = plt.figure(figsize = (6,3))\n",
    "sns.countplot(x = df[\"Survived\"], palette = \"viridis\")\n",
    "plt.show()"
   ]
  },
  {
   "cell_type": "code",
   "execution_count": 14,
   "id": "8a342498",
   "metadata": {
    "execution": {
     "iopub.execute_input": "2023-11-07T05:16:30.818408Z",
     "iopub.status.busy": "2023-11-07T05:16:30.817966Z",
     "iopub.status.idle": "2023-11-07T05:16:31.028946Z",
     "shell.execute_reply": "2023-11-07T05:16:31.027796Z"
    },
    "papermill": {
     "duration": 0.22859,
     "end_time": "2023-11-07T05:16:31.032403",
     "exception": false,
     "start_time": "2023-11-07T05:16:30.803813",
     "status": "completed"
    },
    "tags": []
   },
   "outputs": [
    {
     "data": {
      "image/png": "[encoded data removed]",
      "text/plain": [
       "<Figure size 600x300 with 1 Axes>"
      ]
     },
     "metadata": {},
     "output_type": "display_data"
    }
   ],
   "source": [
    "fig = plt.figure(figsize = (6,3))\n",
    "sns.countplot(x = df[\"Pclass\"], palette = \"viridis\")\n",
    "plt.show()"
   ]
  },
  {
   "cell_type": "code",
   "execution_count": 15,
   "id": "3bb48606",
   "metadata": {
    "execution": {
     "iopub.execute_input": "2023-11-07T05:16:31.058974Z",
     "iopub.status.busy": "2023-11-07T05:16:31.058577Z",
     "iopub.status.idle": "2023-11-07T05:16:31.068776Z",
     "shell.execute_reply": "2023-11-07T05:16:31.067596Z"
    },
    "papermill": {
     "duration": 0.026207,
     "end_time": "2023-11-07T05:16:31.071209",
     "exception": false,
     "start_time": "2023-11-07T05:16:31.045002",
     "status": "completed"
    },
    "tags": []
   },
   "outputs": [
    {
     "data": {
      "text/plain": [
       "Survived      0\n",
       "Pclass        0\n",
       "Name          0\n",
       "Gender        0\n",
       "Age         177\n",
       "SibSp         0\n",
       "Parch         0\n",
       "Ticket        0\n",
       "Fare          0\n",
       "Embarked      2\n",
       "dtype: int64"
      ]
     },
     "execution_count": 15,
     "metadata": {},
     "output_type": "execute_result"
    }
   ],
   "source": [
    "df.isna().sum()"
   ]
  },
  {
   "cell_type": "code",
   "execution_count": 16,
   "id": "faadac6b",
   "metadata": {
    "execution": {
     "iopub.execute_input": "2023-11-07T05:16:31.098436Z",
     "iopub.status.busy": "2023-11-07T05:16:31.098001Z",
     "iopub.status.idle": "2023-11-07T05:16:31.521631Z",
     "shell.execute_reply": "2023-11-07T05:16:31.520517Z"
    },
    "papermill": {
     "duration": 0.440272,
     "end_time": "2023-11-07T05:16:31.524320",
     "exception": false,
     "start_time": "2023-11-07T05:16:31.084048",
     "status": "completed"
    },
    "tags": []
   },
   "outputs": [
    {
     "data": {
      "image/png": "[encoded data removed]",
      "text/plain": [
       "<Figure size 500x500 with 1 Axes>"
      ]
     },
     "metadata": {},
     "output_type": "display_data"
    }
   ],
   "source": [
    "fig = plt.figure(figsize = (5,5))\n",
    "sns.heatmap(df.isna(), cbar = None)\n",
    "plt.show()"
   ]
  },
  {
   "cell_type": "code",
   "execution_count": 17,
   "id": "8239334d",
   "metadata": {
    "execution": {
     "iopub.execute_input": "2023-11-07T05:16:31.552290Z",
     "iopub.status.busy": "2023-11-07T05:16:31.551824Z",
     "iopub.status.idle": "2023-11-07T05:16:31.560449Z",
     "shell.execute_reply": "2023-11-07T05:16:31.559380Z"
    },
    "papermill": {
     "duration": 0.025636,
     "end_time": "2023-11-07T05:16:31.562870",
     "exception": false,
     "start_time": "2023-11-07T05:16:31.537234",
     "status": "completed"
    },
    "tags": []
   },
   "outputs": [],
   "source": [
    "df.dropna(subset = [\"Embarked\"], inplace = True)"
   ]
  },
  {
   "cell_type": "code",
   "execution_count": 18,
   "id": "9852fd0d",
   "metadata": {
    "execution": {
     "iopub.execute_input": "2023-11-07T05:16:31.591387Z",
     "iopub.status.busy": "2023-11-07T05:16:31.590054Z",
     "iopub.status.idle": "2023-11-07T05:16:31.965000Z",
     "shell.execute_reply": "2023-11-07T05:16:31.963796Z"
    },
    "papermill": {
     "duration": 0.391999,
     "end_time": "2023-11-07T05:16:31.967792",
     "exception": false,
     "start_time": "2023-11-07T05:16:31.575793",
     "status": "completed"
    },
    "tags": []
   },
   "outputs": [
    {
     "data": {
      "image/png": "[encoded data removed]",
      "text/plain": [
       "<Figure size 600x300 with 1 Axes>"
      ]
     },
     "metadata": {},
     "output_type": "display_data"
    }
   ],
   "source": [
    "fig = plt.figure(figsize = (6,3))\n",
    "sns.histplot(x = df[\"Age\"], color = \"red\", bins = 25, kde = True)\n",
    "plt.show()"
   ]
  },
  {
   "cell_type": "code",
   "execution_count": 19,
   "id": "341f4641",
   "metadata": {
    "execution": {
     "iopub.execute_input": "2023-11-07T05:16:31.997088Z",
     "iopub.status.busy": "2023-11-07T05:16:31.996081Z",
     "iopub.status.idle": "2023-11-07T05:16:32.003754Z",
     "shell.execute_reply": "2023-11-07T05:16:32.002461Z"
    },
    "papermill": {
     "duration": 0.025214,
     "end_time": "2023-11-07T05:16:32.006533",
     "exception": false,
     "start_time": "2023-11-07T05:16:31.981319",
     "status": "completed"
    },
    "tags": []
   },
   "outputs": [],
   "source": [
    "df[\"Age\"] = df[\"Age\"].fillna(value = df[\"Age\"].median())"
   ]
  },
  {
   "cell_type": "code",
   "execution_count": 20,
   "id": "245cfc38",
   "metadata": {
    "execution": {
     "iopub.execute_input": "2023-11-07T05:16:32.035560Z",
     "iopub.status.busy": "2023-11-07T05:16:32.034907Z",
     "iopub.status.idle": "2023-11-07T05:16:32.280891Z",
     "shell.execute_reply": "2023-11-07T05:16:32.279613Z"
    },
    "papermill": {
     "duration": 0.263501,
     "end_time": "2023-11-07T05:16:32.283415",
     "exception": false,
     "start_time": "2023-11-07T05:16:32.019914",
     "status": "completed"
    },
    "tags": []
   },
   "outputs": [
    {
     "data": {
      "image/png": "[encoded data removed]",
      "text/plain": [
       "<Figure size 600x300 with 1 Axes>"
      ]
     },
     "metadata": {},
     "output_type": "display_data"
    }
   ],
   "source": [
    "fig = plt.figure(figsize = (6,3))\n",
    "sns.countplot(x = df[\"SibSp\"], palette = \"viridis\")\n",
    "plt.show()"
   ]
  },
  {
   "cell_type": "code",
   "execution_count": 21,
   "id": "7debef2b",
   "metadata": {
    "execution": {
     "iopub.execute_input": "2023-11-07T05:16:32.312971Z",
     "iopub.status.busy": "2023-11-07T05:16:32.312535Z",
     "iopub.status.idle": "2023-11-07T05:16:32.565511Z",
     "shell.execute_reply": "2023-11-07T05:16:32.563987Z"
    },
    "papermill": {
     "duration": 0.271259,
     "end_time": "2023-11-07T05:16:32.568412",
     "exception": false,
     "start_time": "2023-11-07T05:16:32.297153",
     "status": "completed"
    },
    "tags": []
   },
   "outputs": [
    {
     "data": {
      "image/png": "[encoded data removed]",
      "text/plain": [
       "<Figure size 600x300 with 1 Axes>"
      ]
     },
     "metadata": {},
     "output_type": "display_data"
    }
   ],
   "source": [
    "fig = plt.figure(figsize = (6,3))\n",
    "sns.countplot(x = df[\"Parch\"], palette = \"viridis\")\n",
    "plt.show()"
   ]
  },
  {
   "cell_type": "code",
   "execution_count": 22,
   "id": "96a61bda",
   "metadata": {
    "execution": {
     "iopub.execute_input": "2023-11-07T05:16:32.600067Z",
     "iopub.status.busy": "2023-11-07T05:16:32.598952Z",
     "iopub.status.idle": "2023-11-07T05:16:32.953399Z",
     "shell.execute_reply": "2023-11-07T05:16:32.952228Z"
    },
    "papermill": {
     "duration": 0.372653,
     "end_time": "2023-11-07T05:16:32.956069",
     "exception": false,
     "start_time": "2023-11-07T05:16:32.583416",
     "status": "completed"
    },
    "tags": []
   },
   "outputs": [
    {
     "data": {
      "image/png": "[encoded data removed]",
      "text/plain": [
       "<Figure size 600x300 with 1 Axes>"
      ]
     },
     "metadata": {},
     "output_type": "display_data"
    }
   ],
   "source": [
    "fig = plt.figure(figsize = (6,3))\n",
    "sns.histplot(x = df[\"Fare\"], color = \"red\", bins = 25, kde = True)\n",
    "plt.show()"
   ]
  },
  {
   "cell_type": "code",
   "execution_count": 23,
   "id": "87817add",
   "metadata": {
    "execution": {
     "iopub.execute_input": "2023-11-07T05:16:32.988341Z",
     "iopub.status.busy": "2023-11-07T05:16:32.987875Z",
     "iopub.status.idle": "2023-11-07T05:16:32.996382Z",
     "shell.execute_reply": "2023-11-07T05:16:32.995523Z"
    },
    "papermill": {
     "duration": 0.027439,
     "end_time": "2023-11-07T05:16:32.998583",
     "exception": false,
     "start_time": "2023-11-07T05:16:32.971144",
     "status": "completed"
    },
    "tags": []
   },
   "outputs": [
    {
     "data": {
      "text/plain": [
       "0                                Braund, Mr. Owen Harris\n",
       "1      Cumings, Mrs. John Bradley (Florence Briggs Th...\n",
       "2                                 Heikkinen, Miss. Laina\n",
       "3           Futrelle, Mrs. Jacques Heath (Lily May Peel)\n",
       "4                               Allen, Mr. William Henry\n",
       "                             ...                        \n",
       "886                                Montvila, Rev. Juozas\n",
       "887                         Graham, Miss. Margaret Edith\n",
       "888             Johnston, Miss. Catherine Helen \"Carrie\"\n",
       "889                                Behr, Mr. Karl Howell\n",
       "890                                  Dooley, Mr. Patrick\n",
       "Name: Name, Length: 889, dtype: object"
      ]
     },
     "execution_count": 23,
     "metadata": {},
     "output_type": "execute_result"
    }
   ],
   "source": [
    "df[\"Name\"]"
   ]
  },
  {
   "cell_type": "code",
   "execution_count": 24,
   "id": "6c16cb35",
   "metadata": {
    "execution": {
     "iopub.execute_input": "2023-11-07T05:16:33.030659Z",
     "iopub.status.busy": "2023-11-07T05:16:33.029249Z",
     "iopub.status.idle": "2023-11-07T05:16:33.039344Z",
     "shell.execute_reply": "2023-11-07T05:16:33.038166Z"
    },
    "papermill": {
     "duration": 0.028731,
     "end_time": "2023-11-07T05:16:33.041899",
     "exception": false,
     "start_time": "2023-11-07T05:16:33.013168",
     "status": "completed"
    },
    "tags": []
   },
   "outputs": [],
   "source": [
    "df[\"LastName\"] = df[\"Name\"].str.split(\", \").str.get(0)"
   ]
  },
  {
   "cell_type": "code",
   "execution_count": 25,
   "id": "5311df20",
   "metadata": {
    "execution": {
     "iopub.execute_input": "2023-11-07T05:16:33.074087Z",
     "iopub.status.busy": "2023-11-07T05:16:33.072707Z",
     "iopub.status.idle": "2023-11-07T05:16:33.080453Z",
     "shell.execute_reply": "2023-11-07T05:16:33.078831Z"
    },
    "papermill": {
     "duration": 0.026383,
     "end_time": "2023-11-07T05:16:33.082978",
     "exception": false,
     "start_time": "2023-11-07T05:16:33.056595",
     "status": "completed"
    },
    "tags": []
   },
   "outputs": [
    {
     "data": {
      "text/plain": [
       "'Braund'"
      ]
     },
     "execution_count": 25,
     "metadata": {},
     "output_type": "execute_result"
    }
   ],
   "source": [
    "\"Braund, Mr. Owen Harris\".split(\", \")[0]"
   ]
  },
  {
   "cell_type": "code",
   "execution_count": 26,
   "id": "718e1494",
   "metadata": {
    "execution": {
     "iopub.execute_input": "2023-11-07T05:16:33.115073Z",
     "iopub.status.busy": "2023-11-07T05:16:33.114262Z",
     "iopub.status.idle": "2023-11-07T05:16:33.124661Z",
     "shell.execute_reply": "2023-11-07T05:16:33.123714Z"
    },
    "papermill": {
     "duration": 0.028799,
     "end_time": "2023-11-07T05:16:33.126913",
     "exception": false,
     "start_time": "2023-11-07T05:16:33.098114",
     "status": "completed"
    },
    "tags": []
   },
   "outputs": [
    {
     "data": {
      "text/plain": [
       "LastName\n",
       "Andersson    9\n",
       "Sage         7\n",
       "Skoog        6\n",
       "Carter       6\n",
       "Johnson      6\n",
       "            ..\n",
       "Hanna        1\n",
       "Lewy         1\n",
       "Mineff       1\n",
       "Haas         1\n",
       "Dooley       1\n",
       "Name: count, Length: 665, dtype: int64"
      ]
     },
     "execution_count": 26,
     "metadata": {},
     "output_type": "execute_result"
    }
   ],
   "source": [
    "df[\"LastName\"].value_counts()"
   ]
  },
  {
   "cell_type": "code",
   "execution_count": 27,
   "id": "aee1eb84",
   "metadata": {
    "execution": {
     "iopub.execute_input": "2023-11-07T05:16:33.159282Z",
     "iopub.status.busy": "2023-11-07T05:16:33.158385Z",
     "iopub.status.idle": "2023-11-07T05:16:33.177524Z",
     "shell.execute_reply": "2023-11-07T05:16:33.176518Z"
    },
    "papermill": {
     "duration": 0.037944,
     "end_time": "2023-11-07T05:16:33.179726",
     "exception": false,
     "start_time": "2023-11-07T05:16:33.141782",
     "status": "completed"
    },
    "tags": []
   },
   "outputs": [
    {
     "data": {
      "text/html": [
       "<div>\n",
       "<style scoped>\n",
       "    .dataframe tbody tr th:only-of-type {\n",
       "        vertical-align: middle;\n",
       "    }\n",
       "\n",
       "    .dataframe tbody tr th {\n",
       "        vertical-align: top;\n",
       "    }\n",
       "\n",
       "    .dataframe thead th {\n",
       "        text-align: right;\n",
       "    }\n",
       "</style>\n",
       "<table border=\"1\" class=\"dataframe\">\n",
       "  <thead>\n",
       "    <tr style=\"text-align: right;\">\n",
       "      <th></th>\n",
       "      <th>Survived</th>\n",
       "      <th>Pclass</th>\n",
       "      <th>Name</th>\n",
       "      <th>Gender</th>\n",
       "      <th>Age</th>\n",
       "      <th>SibSp</th>\n",
       "      <th>Parch</th>\n",
       "      <th>Ticket</th>\n",
       "      <th>Fare</th>\n",
       "      <th>Embarked</th>\n",
       "      <th>LastName</th>\n",
       "    </tr>\n",
       "  </thead>\n",
       "  <tbody>\n",
       "    <tr>\n",
       "      <th>159</th>\n",
       "      <td>0</td>\n",
       "      <td>3</td>\n",
       "      <td>Sage, Master. Thomas Henry</td>\n",
       "      <td>male</td>\n",
       "      <td>28.0</td>\n",
       "      <td>8</td>\n",
       "      <td>2</td>\n",
       "      <td>CA. 2343</td>\n",
       "      <td>69.55</td>\n",
       "      <td>S</td>\n",
       "      <td>Sage</td>\n",
       "    </tr>\n",
       "    <tr>\n",
       "      <th>180</th>\n",
       "      <td>0</td>\n",
       "      <td>3</td>\n",
       "      <td>Sage, Miss. Constance Gladys</td>\n",
       "      <td>female</td>\n",
       "      <td>28.0</td>\n",
       "      <td>8</td>\n",
       "      <td>2</td>\n",
       "      <td>CA. 2343</td>\n",
       "      <td>69.55</td>\n",
       "      <td>S</td>\n",
       "      <td>Sage</td>\n",
       "    </tr>\n",
       "    <tr>\n",
       "      <th>201</th>\n",
       "      <td>0</td>\n",
       "      <td>3</td>\n",
       "      <td>Sage, Mr. Frederick</td>\n",
       "      <td>male</td>\n",
       "      <td>28.0</td>\n",
       "      <td>8</td>\n",
       "      <td>2</td>\n",
       "      <td>CA. 2343</td>\n",
       "      <td>69.55</td>\n",
       "      <td>S</td>\n",
       "      <td>Sage</td>\n",
       "    </tr>\n",
       "    <tr>\n",
       "      <th>324</th>\n",
       "      <td>0</td>\n",
       "      <td>3</td>\n",
       "      <td>Sage, Mr. George John Jr</td>\n",
       "      <td>male</td>\n",
       "      <td>28.0</td>\n",
       "      <td>8</td>\n",
       "      <td>2</td>\n",
       "      <td>CA. 2343</td>\n",
       "      <td>69.55</td>\n",
       "      <td>S</td>\n",
       "      <td>Sage</td>\n",
       "    </tr>\n",
       "    <tr>\n",
       "      <th>792</th>\n",
       "      <td>0</td>\n",
       "      <td>3</td>\n",
       "      <td>Sage, Miss. Stella Anna</td>\n",
       "      <td>female</td>\n",
       "      <td>28.0</td>\n",
       "      <td>8</td>\n",
       "      <td>2</td>\n",
       "      <td>CA. 2343</td>\n",
       "      <td>69.55</td>\n",
       "      <td>S</td>\n",
       "      <td>Sage</td>\n",
       "    </tr>\n",
       "    <tr>\n",
       "      <th>846</th>\n",
       "      <td>0</td>\n",
       "      <td>3</td>\n",
       "      <td>Sage, Mr. Douglas Bullen</td>\n",
       "      <td>male</td>\n",
       "      <td>28.0</td>\n",
       "      <td>8</td>\n",
       "      <td>2</td>\n",
       "      <td>CA. 2343</td>\n",
       "      <td>69.55</td>\n",
       "      <td>S</td>\n",
       "      <td>Sage</td>\n",
       "    </tr>\n",
       "    <tr>\n",
       "      <th>863</th>\n",
       "      <td>0</td>\n",
       "      <td>3</td>\n",
       "      <td>Sage, Miss. Dorothy Edith \"Dolly\"</td>\n",
       "      <td>female</td>\n",
       "      <td>28.0</td>\n",
       "      <td>8</td>\n",
       "      <td>2</td>\n",
       "      <td>CA. 2343</td>\n",
       "      <td>69.55</td>\n",
       "      <td>S</td>\n",
       "      <td>Sage</td>\n",
       "    </tr>\n",
       "  </tbody>\n",
       "</table>\n",
       "</div>"
      ],
      "text/plain": [
       "     Survived  Pclass                               Name  Gender   Age  SibSp  \\\n",
       "159         0       3         Sage, Master. Thomas Henry    male  28.0      8   \n",
       "180         0       3       Sage, Miss. Constance Gladys  female  28.0      8   \n",
       "201         0       3                Sage, Mr. Frederick    male  28.0      8   \n",
       "324         0       3           Sage, Mr. George John Jr    male  28.0      8   \n",
       "792         0       3            Sage, Miss. Stella Anna  female  28.0      8   \n",
       "846         0       3           Sage, Mr. Douglas Bullen    male  28.0      8   \n",
       "863         0       3  Sage, Miss. Dorothy Edith \"Dolly\"  female  28.0      8   \n",
       "\n",
       "     Parch    Ticket   Fare Embarked LastName  \n",
       "159      2  CA. 2343  69.55        S     Sage  \n",
       "180      2  CA. 2343  69.55        S     Sage  \n",
       "201      2  CA. 2343  69.55        S     Sage  \n",
       "324      2  CA. 2343  69.55        S     Sage  \n",
       "792      2  CA. 2343  69.55        S     Sage  \n",
       "846      2  CA. 2343  69.55        S     Sage  \n",
       "863      2  CA. 2343  69.55        S     Sage  "
      ]
     },
     "execution_count": 27,
     "metadata": {},
     "output_type": "execute_result"
    }
   ],
   "source": [
    "df[df[\"LastName\"] == \"Sage\"]"
   ]
  },
  {
   "cell_type": "code",
   "execution_count": 28,
   "id": "d0dba5b5",
   "metadata": {
    "execution": {
     "iopub.execute_input": "2023-11-07T05:16:33.276307Z",
     "iopub.status.busy": "2023-11-07T05:16:33.275607Z",
     "iopub.status.idle": "2023-11-07T05:16:33.284562Z",
     "shell.execute_reply": "2023-11-07T05:16:33.283663Z"
    },
    "papermill": {
     "duration": 0.092199,
     "end_time": "2023-11-07T05:16:33.287125",
     "exception": false,
     "start_time": "2023-11-07T05:16:33.194926",
     "status": "completed"
    },
    "tags": []
   },
   "outputs": [],
   "source": [
    "df[\"TicketClass\"] = df[\"Ticket\"].str.split(\" \").str.get(0)"
   ]
  },
  {
   "cell_type": "code",
   "execution_count": 29,
   "id": "87f9973b",
   "metadata": {
    "execution": {
     "iopub.execute_input": "2023-11-07T05:16:33.320849Z",
     "iopub.status.busy": "2023-11-07T05:16:33.320132Z",
     "iopub.status.idle": "2023-11-07T05:16:33.329527Z",
     "shell.execute_reply": "2023-11-07T05:16:33.328485Z"
    },
    "papermill": {
     "duration": 0.0292,
     "end_time": "2023-11-07T05:16:33.332176",
     "exception": false,
     "start_time": "2023-11-07T05:16:33.302976",
     "status": "completed"
    },
    "tags": []
   },
   "outputs": [
    {
     "data": {
      "text/plain": [
       "TicketClass\n",
       "PC        60\n",
       "C.A.      27\n",
       "STON/O    12\n",
       "A/5       10\n",
       "W./C.      9\n",
       "          ..\n",
       "113043     1\n",
       "28551      1\n",
       "345364     1\n",
       "234818     1\n",
       "370376     1\n",
       "Name: count, Length: 556, dtype: int64"
      ]
     },
     "execution_count": 29,
     "metadata": {},
     "output_type": "execute_result"
    }
   ],
   "source": [
    "df[\"TicketClass\"].value_counts()"
   ]
  },
  {
   "cell_type": "code",
   "execution_count": 30,
   "id": "e4cd2144",
   "metadata": {
    "execution": {
     "iopub.execute_input": "2023-11-07T05:16:33.365819Z",
     "iopub.status.busy": "2023-11-07T05:16:33.365409Z",
     "iopub.status.idle": "2023-11-07T05:16:33.397111Z",
     "shell.execute_reply": "2023-11-07T05:16:33.396111Z"
    },
    "papermill": {
     "duration": 0.051778,
     "end_time": "2023-11-07T05:16:33.399480",
     "exception": false,
     "start_time": "2023-11-07T05:16:33.347702",
     "status": "completed"
    },
    "tags": []
   },
   "outputs": [
    {
     "data": {
      "text/html": [
       "<div>\n",
       "<style scoped>\n",
       "    .dataframe tbody tr th:only-of-type {\n",
       "        vertical-align: middle;\n",
       "    }\n",
       "\n",
       "    .dataframe tbody tr th {\n",
       "        vertical-align: top;\n",
       "    }\n",
       "\n",
       "    .dataframe thead th {\n",
       "        text-align: right;\n",
       "    }\n",
       "</style>\n",
       "<table border=\"1\" class=\"dataframe\">\n",
       "  <thead>\n",
       "    <tr style=\"text-align: right;\">\n",
       "      <th></th>\n",
       "      <th>Survived</th>\n",
       "      <th>Pclass</th>\n",
       "      <th>Name</th>\n",
       "      <th>Gender</th>\n",
       "      <th>Age</th>\n",
       "      <th>SibSp</th>\n",
       "      <th>Parch</th>\n",
       "      <th>Ticket</th>\n",
       "      <th>Fare</th>\n",
       "      <th>Embarked</th>\n",
       "      <th>LastName</th>\n",
       "      <th>TicketClass</th>\n",
       "    </tr>\n",
       "  </thead>\n",
       "  <tbody>\n",
       "    <tr>\n",
       "      <th>33</th>\n",
       "      <td>0</td>\n",
       "      <td>2</td>\n",
       "      <td>Wheadon, Mr. Edward H</td>\n",
       "      <td>male</td>\n",
       "      <td>66.0</td>\n",
       "      <td>0</td>\n",
       "      <td>0</td>\n",
       "      <td>C.A. 24579</td>\n",
       "      <td>10.500</td>\n",
       "      <td>S</td>\n",
       "      <td>Wheadon</td>\n",
       "      <td>C.A.</td>\n",
       "    </tr>\n",
       "    <tr>\n",
       "      <th>56</th>\n",
       "      <td>1</td>\n",
       "      <td>2</td>\n",
       "      <td>Rugg, Miss. Emily</td>\n",
       "      <td>female</td>\n",
       "      <td>21.0</td>\n",
       "      <td>0</td>\n",
       "      <td>0</td>\n",
       "      <td>C.A. 31026</td>\n",
       "      <td>10.500</td>\n",
       "      <td>S</td>\n",
       "      <td>Rugg</td>\n",
       "      <td>C.A.</td>\n",
       "    </tr>\n",
       "    <tr>\n",
       "      <th>58</th>\n",
       "      <td>1</td>\n",
       "      <td>2</td>\n",
       "      <td>West, Miss. Constance Mirium</td>\n",
       "      <td>female</td>\n",
       "      <td>5.0</td>\n",
       "      <td>1</td>\n",
       "      <td>2</td>\n",
       "      <td>C.A. 34651</td>\n",
       "      <td>27.750</td>\n",
       "      <td>S</td>\n",
       "      <td>West</td>\n",
       "      <td>C.A.</td>\n",
       "    </tr>\n",
       "    <tr>\n",
       "      <th>66</th>\n",
       "      <td>1</td>\n",
       "      <td>2</td>\n",
       "      <td>Nye, Mrs. (Elizabeth Ramell)</td>\n",
       "      <td>female</td>\n",
       "      <td>29.0</td>\n",
       "      <td>0</td>\n",
       "      <td>0</td>\n",
       "      <td>C.A. 29395</td>\n",
       "      <td>10.500</td>\n",
       "      <td>S</td>\n",
       "      <td>Nye</td>\n",
       "      <td>C.A.</td>\n",
       "    </tr>\n",
       "    <tr>\n",
       "      <th>70</th>\n",
       "      <td>0</td>\n",
       "      <td>2</td>\n",
       "      <td>Jenkin, Mr. Stephen Curnow</td>\n",
       "      <td>male</td>\n",
       "      <td>32.0</td>\n",
       "      <td>0</td>\n",
       "      <td>0</td>\n",
       "      <td>C.A. 33111</td>\n",
       "      <td>10.500</td>\n",
       "      <td>S</td>\n",
       "      <td>Jenkin</td>\n",
       "      <td>C.A.</td>\n",
       "    </tr>\n",
       "    <tr>\n",
       "      <th>93</th>\n",
       "      <td>0</td>\n",
       "      <td>3</td>\n",
       "      <td>Dean, Mr. Bertram Frank</td>\n",
       "      <td>male</td>\n",
       "      <td>26.0</td>\n",
       "      <td>1</td>\n",
       "      <td>2</td>\n",
       "      <td>C.A. 2315</td>\n",
       "      <td>20.575</td>\n",
       "      <td>S</td>\n",
       "      <td>Dean</td>\n",
       "      <td>C.A.</td>\n",
       "    </tr>\n",
       "    <tr>\n",
       "      <th>134</th>\n",
       "      <td>0</td>\n",
       "      <td>2</td>\n",
       "      <td>Sobey, Mr. Samuel James Hayden</td>\n",
       "      <td>male</td>\n",
       "      <td>25.0</td>\n",
       "      <td>0</td>\n",
       "      <td>0</td>\n",
       "      <td>C.A. 29178</td>\n",
       "      <td>13.000</td>\n",
       "      <td>S</td>\n",
       "      <td>Sobey</td>\n",
       "      <td>C.A.</td>\n",
       "    </tr>\n",
       "    <tr>\n",
       "      <th>145</th>\n",
       "      <td>0</td>\n",
       "      <td>2</td>\n",
       "      <td>Nicholls, Mr. Joseph Charles</td>\n",
       "      <td>male</td>\n",
       "      <td>19.0</td>\n",
       "      <td>1</td>\n",
       "      <td>1</td>\n",
       "      <td>C.A. 33112</td>\n",
       "      <td>36.750</td>\n",
       "      <td>S</td>\n",
       "      <td>Nicholls</td>\n",
       "      <td>C.A.</td>\n",
       "    </tr>\n",
       "    <tr>\n",
       "      <th>161</th>\n",
       "      <td>1</td>\n",
       "      <td>2</td>\n",
       "      <td>Watt, Mrs. James (Elizabeth \"Bessie\" Inglis Mi...</td>\n",
       "      <td>female</td>\n",
       "      <td>40.0</td>\n",
       "      <td>0</td>\n",
       "      <td>0</td>\n",
       "      <td>C.A. 33595</td>\n",
       "      <td>15.750</td>\n",
       "      <td>S</td>\n",
       "      <td>Watt</td>\n",
       "      <td>C.A.</td>\n",
       "    </tr>\n",
       "    <tr>\n",
       "      <th>234</th>\n",
       "      <td>0</td>\n",
       "      <td>2</td>\n",
       "      <td>Leyson, Mr. Robert William Norman</td>\n",
       "      <td>male</td>\n",
       "      <td>24.0</td>\n",
       "      <td>0</td>\n",
       "      <td>0</td>\n",
       "      <td>C.A. 29566</td>\n",
       "      <td>10.500</td>\n",
       "      <td>S</td>\n",
       "      <td>Leyson</td>\n",
       "      <td>C.A.</td>\n",
       "    </tr>\n",
       "    <tr>\n",
       "      <th>237</th>\n",
       "      <td>1</td>\n",
       "      <td>2</td>\n",
       "      <td>Collyer, Miss. Marjorie \"Lottie\"</td>\n",
       "      <td>female</td>\n",
       "      <td>8.0</td>\n",
       "      <td>0</td>\n",
       "      <td>2</td>\n",
       "      <td>C.A. 31921</td>\n",
       "      <td>26.250</td>\n",
       "      <td>S</td>\n",
       "      <td>Collyer</td>\n",
       "      <td>C.A.</td>\n",
       "    </tr>\n",
       "    <tr>\n",
       "      <th>265</th>\n",
       "      <td>0</td>\n",
       "      <td>2</td>\n",
       "      <td>Reeves, Mr. David</td>\n",
       "      <td>male</td>\n",
       "      <td>36.0</td>\n",
       "      <td>0</td>\n",
       "      <td>0</td>\n",
       "      <td>C.A. 17248</td>\n",
       "      <td>10.500</td>\n",
       "      <td>S</td>\n",
       "      <td>Reeves</td>\n",
       "      <td>C.A.</td>\n",
       "    </tr>\n",
       "    <tr>\n",
       "      <th>279</th>\n",
       "      <td>1</td>\n",
       "      <td>3</td>\n",
       "      <td>Abbott, Mrs. Stanton (Rosa Hunt)</td>\n",
       "      <td>female</td>\n",
       "      <td>35.0</td>\n",
       "      <td>1</td>\n",
       "      <td>1</td>\n",
       "      <td>C.A. 2673</td>\n",
       "      <td>20.250</td>\n",
       "      <td>S</td>\n",
       "      <td>Abbott</td>\n",
       "      <td>C.A.</td>\n",
       "    </tr>\n",
       "    <tr>\n",
       "      <th>348</th>\n",
       "      <td>1</td>\n",
       "      <td>3</td>\n",
       "      <td>Coutts, Master. William Loch \"William\"</td>\n",
       "      <td>male</td>\n",
       "      <td>3.0</td>\n",
       "      <td>1</td>\n",
       "      <td>1</td>\n",
       "      <td>C.A. 37671</td>\n",
       "      <td>15.900</td>\n",
       "      <td>S</td>\n",
       "      <td>Coutts</td>\n",
       "      <td>C.A.</td>\n",
       "    </tr>\n",
       "    <tr>\n",
       "      <th>439</th>\n",
       "      <td>0</td>\n",
       "      <td>2</td>\n",
       "      <td>Kvillner, Mr. Johan Henrik Johannesson</td>\n",
       "      <td>male</td>\n",
       "      <td>31.0</td>\n",
       "      <td>0</td>\n",
       "      <td>0</td>\n",
       "      <td>C.A. 18723</td>\n",
       "      <td>10.500</td>\n",
       "      <td>S</td>\n",
       "      <td>Kvillner</td>\n",
       "      <td>C.A.</td>\n",
       "    </tr>\n",
       "    <tr>\n",
       "      <th>450</th>\n",
       "      <td>0</td>\n",
       "      <td>2</td>\n",
       "      <td>West, Mr. Edwy Arthur</td>\n",
       "      <td>male</td>\n",
       "      <td>36.0</td>\n",
       "      <td>1</td>\n",
       "      <td>2</td>\n",
       "      <td>C.A. 34651</td>\n",
       "      <td>27.750</td>\n",
       "      <td>S</td>\n",
       "      <td>West</td>\n",
       "      <td>C.A.</td>\n",
       "    </tr>\n",
       "    <tr>\n",
       "      <th>472</th>\n",
       "      <td>1</td>\n",
       "      <td>2</td>\n",
       "      <td>West, Mrs. Edwy Arthur (Ada Mary Worth)</td>\n",
       "      <td>female</td>\n",
       "      <td>33.0</td>\n",
       "      <td>1</td>\n",
       "      <td>2</td>\n",
       "      <td>C.A. 34651</td>\n",
       "      <td>27.750</td>\n",
       "      <td>S</td>\n",
       "      <td>West</td>\n",
       "      <td>C.A.</td>\n",
       "    </tr>\n",
       "    <tr>\n",
       "      <th>489</th>\n",
       "      <td>1</td>\n",
       "      <td>3</td>\n",
       "      <td>Coutts, Master. Eden Leslie \"Neville\"</td>\n",
       "      <td>male</td>\n",
       "      <td>9.0</td>\n",
       "      <td>1</td>\n",
       "      <td>1</td>\n",
       "      <td>C.A. 37671</td>\n",
       "      <td>15.900</td>\n",
       "      <td>S</td>\n",
       "      <td>Coutts</td>\n",
       "      <td>C.A.</td>\n",
       "    </tr>\n",
       "    <tr>\n",
       "      <th>497</th>\n",
       "      <td>0</td>\n",
       "      <td>3</td>\n",
       "      <td>Shellard, Mr. Frederick William</td>\n",
       "      <td>male</td>\n",
       "      <td>28.0</td>\n",
       "      <td>0</td>\n",
       "      <td>0</td>\n",
       "      <td>C.A. 6212</td>\n",
       "      <td>15.100</td>\n",
       "      <td>S</td>\n",
       "      <td>Shellard</td>\n",
       "      <td>C.A.</td>\n",
       "    </tr>\n",
       "    <tr>\n",
       "      <th>516</th>\n",
       "      <td>1</td>\n",
       "      <td>2</td>\n",
       "      <td>Lemore, Mrs. (Amelia Milley)</td>\n",
       "      <td>female</td>\n",
       "      <td>34.0</td>\n",
       "      <td>0</td>\n",
       "      <td>0</td>\n",
       "      <td>C.A. 34260</td>\n",
       "      <td>10.500</td>\n",
       "      <td>S</td>\n",
       "      <td>Lemore</td>\n",
       "      <td>C.A.</td>\n",
       "    </tr>\n",
       "    <tr>\n",
       "      <th>549</th>\n",
       "      <td>1</td>\n",
       "      <td>2</td>\n",
       "      <td>Davies, Master. John Morgan Jr</td>\n",
       "      <td>male</td>\n",
       "      <td>8.0</td>\n",
       "      <td>1</td>\n",
       "      <td>1</td>\n",
       "      <td>C.A. 33112</td>\n",
       "      <td>36.750</td>\n",
       "      <td>S</td>\n",
       "      <td>Davies</td>\n",
       "      <td>C.A.</td>\n",
       "    </tr>\n",
       "    <tr>\n",
       "      <th>637</th>\n",
       "      <td>0</td>\n",
       "      <td>2</td>\n",
       "      <td>Collyer, Mr. Harvey</td>\n",
       "      <td>male</td>\n",
       "      <td>31.0</td>\n",
       "      <td>1</td>\n",
       "      <td>1</td>\n",
       "      <td>C.A. 31921</td>\n",
       "      <td>26.250</td>\n",
       "      <td>S</td>\n",
       "      <td>Collyer</td>\n",
       "      <td>C.A.</td>\n",
       "    </tr>\n",
       "    <tr>\n",
       "      <th>672</th>\n",
       "      <td>0</td>\n",
       "      <td>2</td>\n",
       "      <td>Mitchell, Mr. Henry Michael</td>\n",
       "      <td>male</td>\n",
       "      <td>70.0</td>\n",
       "      <td>0</td>\n",
       "      <td>0</td>\n",
       "      <td>C.A. 24580</td>\n",
       "      <td>10.500</td>\n",
       "      <td>S</td>\n",
       "      <td>Mitchell</td>\n",
       "      <td>C.A.</td>\n",
       "    </tr>\n",
       "    <tr>\n",
       "      <th>746</th>\n",
       "      <td>0</td>\n",
       "      <td>3</td>\n",
       "      <td>Abbott, Mr. Rossmore Edward</td>\n",
       "      <td>male</td>\n",
       "      <td>16.0</td>\n",
       "      <td>1</td>\n",
       "      <td>1</td>\n",
       "      <td>C.A. 2673</td>\n",
       "      <td>20.250</td>\n",
       "      <td>S</td>\n",
       "      <td>Abbott</td>\n",
       "      <td>C.A.</td>\n",
       "    </tr>\n",
       "    <tr>\n",
       "      <th>788</th>\n",
       "      <td>1</td>\n",
       "      <td>3</td>\n",
       "      <td>Dean, Master. Bertram Vere</td>\n",
       "      <td>male</td>\n",
       "      <td>1.0</td>\n",
       "      <td>1</td>\n",
       "      <td>2</td>\n",
       "      <td>C.A. 2315</td>\n",
       "      <td>20.575</td>\n",
       "      <td>S</td>\n",
       "      <td>Dean</td>\n",
       "      <td>C.A.</td>\n",
       "    </tr>\n",
       "    <tr>\n",
       "      <th>801</th>\n",
       "      <td>1</td>\n",
       "      <td>2</td>\n",
       "      <td>Collyer, Mrs. Harvey (Charlotte Annie Tate)</td>\n",
       "      <td>female</td>\n",
       "      <td>31.0</td>\n",
       "      <td>1</td>\n",
       "      <td>1</td>\n",
       "      <td>C.A. 31921</td>\n",
       "      <td>26.250</td>\n",
       "      <td>S</td>\n",
       "      <td>Collyer</td>\n",
       "      <td>C.A.</td>\n",
       "    </tr>\n",
       "    <tr>\n",
       "      <th>845</th>\n",
       "      <td>0</td>\n",
       "      <td>3</td>\n",
       "      <td>Abbing, Mr. Anthony</td>\n",
       "      <td>male</td>\n",
       "      <td>42.0</td>\n",
       "      <td>0</td>\n",
       "      <td>0</td>\n",
       "      <td>C.A. 5547</td>\n",
       "      <td>7.550</td>\n",
       "      <td>S</td>\n",
       "      <td>Abbing</td>\n",
       "      <td>C.A.</td>\n",
       "    </tr>\n",
       "  </tbody>\n",
       "</table>\n",
       "</div>"
      ],
      "text/plain": [
       "     Survived  Pclass                                               Name  \\\n",
       "33          0       2                              Wheadon, Mr. Edward H   \n",
       "56          1       2                                  Rugg, Miss. Emily   \n",
       "58          1       2                       West, Miss. Constance Mirium   \n",
       "66          1       2                       Nye, Mrs. (Elizabeth Ramell)   \n",
       "70          0       2                         Jenkin, Mr. Stephen Curnow   \n",
       "93          0       3                            Dean, Mr. Bertram Frank   \n",
       "134         0       2                     Sobey, Mr. Samuel James Hayden   \n",
       "145         0       2                       Nicholls, Mr. Joseph Charles   \n",
       "161         1       2  Watt, Mrs. James (Elizabeth \"Bessie\" Inglis Mi...   \n",
       "234         0       2                  Leyson, Mr. Robert William Norman   \n",
       "237         1       2                   Collyer, Miss. Marjorie \"Lottie\"   \n",
       "265         0       2                                  Reeves, Mr. David   \n",
       "279         1       3                   Abbott, Mrs. Stanton (Rosa Hunt)   \n",
       "348         1       3             Coutts, Master. William Loch \"William\"   \n",
       "439         0       2             Kvillner, Mr. Johan Henrik Johannesson   \n",
       "450         0       2                              West, Mr. Edwy Arthur   \n",
       "472         1       2            West, Mrs. Edwy Arthur (Ada Mary Worth)   \n",
       "489         1       3              Coutts, Master. Eden Leslie \"Neville\"   \n",
       "497         0       3                    Shellard, Mr. Frederick William   \n",
       "516         1       2                       Lemore, Mrs. (Amelia Milley)   \n",
       "549         1       2                     Davies, Master. John Morgan Jr   \n",
       "637         0       2                                Collyer, Mr. Harvey   \n",
       "672         0       2                        Mitchell, Mr. Henry Michael   \n",
       "746         0       3                        Abbott, Mr. Rossmore Edward   \n",
       "788         1       3                         Dean, Master. Bertram Vere   \n",
       "801         1       2        Collyer, Mrs. Harvey (Charlotte Annie Tate)   \n",
       "845         0       3                                Abbing, Mr. Anthony   \n",
       "\n",
       "     Gender   Age  SibSp  Parch      Ticket    Fare Embarked  LastName  \\\n",
       "33     male  66.0      0      0  C.A. 24579  10.500        S   Wheadon   \n",
       "56   female  21.0      0      0  C.A. 31026  10.500        S      Rugg   \n",
       "58   female   5.0      1      2  C.A. 34651  27.750        S      West   \n",
       "66   female  29.0      0      0  C.A. 29395  10.500        S       Nye   \n",
       "70     male  32.0      0      0  C.A. 33111  10.500        S    Jenkin   \n",
       "93     male  26.0      1      2   C.A. 2315  20.575        S      Dean   \n",
       "134    male  25.0      0      0  C.A. 29178  13.000        S     Sobey   \n",
       "145    male  19.0      1      1  C.A. 33112  36.750        S  Nicholls   \n",
       "161  female  40.0      0      0  C.A. 33595  15.750        S      Watt   \n",
       "234    male  24.0      0      0  C.A. 29566  10.500        S    Leyson   \n",
       "237  female   8.0      0      2  C.A. 31921  26.250        S   Collyer   \n",
       "265    male  36.0      0      0  C.A. 17248  10.500        S    Reeves   \n",
       "279  female  35.0      1      1   C.A. 2673  20.250        S    Abbott   \n",
       "348    male   3.0      1      1  C.A. 37671  15.900        S    Coutts   \n",
       "439    male  31.0      0      0  C.A. 18723  10.500        S  Kvillner   \n",
       "450    male  36.0      1      2  C.A. 34651  27.750        S      West   \n",
       "472  female  33.0      1      2  C.A. 34651  27.750        S      West   \n",
       "489    male   9.0      1      1  C.A. 37671  15.900        S    Coutts   \n",
       "497    male  28.0      0      0   C.A. 6212  15.100        S  Shellard   \n",
       "516  female  34.0      0      0  C.A. 34260  10.500        S    Lemore   \n",
       "549    male   8.0      1      1  C.A. 33112  36.750        S    Davies   \n",
       "637    male  31.0      1      1  C.A. 31921  26.250        S   Collyer   \n",
       "672    male  70.0      0      0  C.A. 24580  10.500        S  Mitchell   \n",
       "746    male  16.0      1      1   C.A. 2673  20.250        S    Abbott   \n",
       "788    male   1.0      1      2   C.A. 2315  20.575        S      Dean   \n",
       "801  female  31.0      1      1  C.A. 31921  26.250        S   Collyer   \n",
       "845    male  42.0      0      0   C.A. 5547   7.550        S    Abbing   \n",
       "\n",
       "    TicketClass  \n",
       "33         C.A.  \n",
       "56         C.A.  \n",
       "58         C.A.  \n",
       "66         C.A.  \n",
       "70         C.A.  \n",
       "93         C.A.  \n",
       "134        C.A.  \n",
       "145        C.A.  \n",
       "161        C.A.  \n",
       "234        C.A.  \n",
       "237        C.A.  \n",
       "265        C.A.  \n",
       "279        C.A.  \n",
       "348        C.A.  \n",
       "439        C.A.  \n",
       "450        C.A.  \n",
       "472        C.A.  \n",
       "489        C.A.  \n",
       "497        C.A.  \n",
       "516        C.A.  \n",
       "549        C.A.  \n",
       "637        C.A.  \n",
       "672        C.A.  \n",
       "746        C.A.  \n",
       "788        C.A.  \n",
       "801        C.A.  \n",
       "845        C.A.  "
      ]
     },
     "execution_count": 30,
     "metadata": {},
     "output_type": "execute_result"
    }
   ],
   "source": [
    "df[df[\"TicketClass\"] == \"C.A.\"]"
   ]
  }
 ],
 "metadata": {
  "kernelspec": {
   "display_name": "Python 3",
   "language": "python",
   "name": "python3"
  },
  "language_info": {
   "codemirror_mode": {
    "name": "ipython",
    "version": 3
   },
   "file_extension": ".py",
   "mimetype": "text/x-python",
   "name": "python",
   "nbconvert_exporter": "python",
   "pygments_lexer": "ipython3",
   "version": "3.10.12"
  },
  "papermill": {
   "default_parameters": {},
   "duration": 11.26384,
   "end_time": "2023-11-07T05:16:34.037625",
   "environment_variables": {},
   "exception": null,
   "input_path": "__notebook__.ipynb",
   "output_path": "__notebook__.ipynb",
   "parameters": {},
   "start_time": "2023-11-07T05:16:22.773785",
   "version": "2.4.0"
  }
 },
 "nbformat": 4,
 "nbformat_minor": 5
}
